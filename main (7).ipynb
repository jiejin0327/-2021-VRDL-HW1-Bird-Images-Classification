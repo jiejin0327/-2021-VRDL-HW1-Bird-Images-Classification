{
  "nbformat": 4,
  "nbformat_minor": 0,
  "metadata": {
    "accelerator": "GPU",
    "colab": {
      "name": "main.ipynb",
      "provenance": [],
      "collapsed_sections": []
    },
    "kernelspec": {
      "display_name": "Python 3",
      "name": "python3"
    },
    "language_info": {
      "name": "python"
    },
    "widgets": {
      "application/vnd.jupyter.widget-state+json": {
        "959134a66aef48ed8f76e725f0abdd63": {
          "model_module": "@jupyter-widgets/controls",
          "model_name": "HBoxModel",
          "model_module_version": "1.5.0",
          "state": {
            "_dom_classes": [],
            "_model_module": "@jupyter-widgets/controls",
            "_model_module_version": "1.5.0",
            "_model_name": "HBoxModel",
            "_view_count": null,
            "_view_module": "@jupyter-widgets/controls",
            "_view_module_version": "1.5.0",
            "_view_name": "HBoxView",
            "box_style": "",
            "children": [
              "IPY_MODEL_1be216de4e484fb1a9b74ded3aec0f7d",
              "IPY_MODEL_e30f11e75c964306b07aa2382f756554",
              "IPY_MODEL_8e321708919b4b6ca3d487f7756a6890"
            ],
            "layout": "IPY_MODEL_a6e09d4060b64377aac545c5fd720442"
          }
        },
        "1be216de4e484fb1a9b74ded3aec0f7d": {
          "model_module": "@jupyter-widgets/controls",
          "model_name": "HTMLModel",
          "model_module_version": "1.5.0",
          "state": {
            "_dom_classes": [],
            "_model_module": "@jupyter-widgets/controls",
            "_model_module_version": "1.5.0",
            "_model_name": "HTMLModel",
            "_view_count": null,
            "_view_module": "@jupyter-widgets/controls",
            "_view_module_version": "1.5.0",
            "_view_name": "HTMLView",
            "description": "",
            "description_tooltip": null,
            "layout": "IPY_MODEL_db9f11d89ab146b3acf1930c127c68bd",
            "placeholder": "​",
            "style": "IPY_MODEL_cf3554c992ea4f9b939a18379ecf723e",
            "value": "100%"
          }
        },
        "e30f11e75c964306b07aa2382f756554": {
          "model_module": "@jupyter-widgets/controls",
          "model_name": "FloatProgressModel",
          "model_module_version": "1.5.0",
          "state": {
            "_dom_classes": [],
            "_model_module": "@jupyter-widgets/controls",
            "_model_module_version": "1.5.0",
            "_model_name": "FloatProgressModel",
            "_view_count": null,
            "_view_module": "@jupyter-widgets/controls",
            "_view_module_version": "1.5.0",
            "_view_name": "ProgressView",
            "bar_style": "success",
            "description": "",
            "description_tooltip": null,
            "layout": "IPY_MODEL_6fd1ca8f911246fc83b766cab5a36c17",
            "max": 102530333,
            "min": 0,
            "orientation": "horizontal",
            "style": "IPY_MODEL_56580cb595cc4c299755ec79345b503d",
            "value": 102530333
          }
        },
        "8e321708919b4b6ca3d487f7756a6890": {
          "model_module": "@jupyter-widgets/controls",
          "model_name": "HTMLModel",
          "model_module_version": "1.5.0",
          "state": {
            "_dom_classes": [],
            "_model_module": "@jupyter-widgets/controls",
            "_model_module_version": "1.5.0",
            "_model_name": "HTMLModel",
            "_view_count": null,
            "_view_module": "@jupyter-widgets/controls",
            "_view_module_version": "1.5.0",
            "_view_name": "HTMLView",
            "description": "",
            "description_tooltip": null,
            "layout": "IPY_MODEL_79d5809ec3684317b54be4b2b97bee66",
            "placeholder": "​",
            "style": "IPY_MODEL_ad2e6f3bdcaf41c3890cc35292a4463b",
            "value": " 97.8M/97.8M [00:01&lt;00:00, 138MB/s]"
          }
        },
        "a6e09d4060b64377aac545c5fd720442": {
          "model_module": "@jupyter-widgets/base",
          "model_name": "LayoutModel",
          "model_module_version": "1.2.0",
          "state": {
            "_model_module": "@jupyter-widgets/base",
            "_model_module_version": "1.2.0",
            "_model_name": "LayoutModel",
            "_view_count": null,
            "_view_module": "@jupyter-widgets/base",
            "_view_module_version": "1.2.0",
            "_view_name": "LayoutView",
            "align_content": null,
            "align_items": null,
            "align_self": null,
            "border": null,
            "bottom": null,
            "display": null,
            "flex": null,
            "flex_flow": null,
            "grid_area": null,
            "grid_auto_columns": null,
            "grid_auto_flow": null,
            "grid_auto_rows": null,
            "grid_column": null,
            "grid_gap": null,
            "grid_row": null,
            "grid_template_areas": null,
            "grid_template_columns": null,
            "grid_template_rows": null,
            "height": null,
            "justify_content": null,
            "justify_items": null,
            "left": null,
            "margin": null,
            "max_height": null,
            "max_width": null,
            "min_height": null,
            "min_width": null,
            "object_fit": null,
            "object_position": null,
            "order": null,
            "overflow": null,
            "overflow_x": null,
            "overflow_y": null,
            "padding": null,
            "right": null,
            "top": null,
            "visibility": null,
            "width": null
          }
        },
        "db9f11d89ab146b3acf1930c127c68bd": {
          "model_module": "@jupyter-widgets/base",
          "model_name": "LayoutModel",
          "model_module_version": "1.2.0",
          "state": {
            "_model_module": "@jupyter-widgets/base",
            "_model_module_version": "1.2.0",
            "_model_name": "LayoutModel",
            "_view_count": null,
            "_view_module": "@jupyter-widgets/base",
            "_view_module_version": "1.2.0",
            "_view_name": "LayoutView",
            "align_content": null,
            "align_items": null,
            "align_self": null,
            "border": null,
            "bottom": null,
            "display": null,
            "flex": null,
            "flex_flow": null,
            "grid_area": null,
            "grid_auto_columns": null,
            "grid_auto_flow": null,
            "grid_auto_rows": null,
            "grid_column": null,
            "grid_gap": null,
            "grid_row": null,
            "grid_template_areas": null,
            "grid_template_columns": null,
            "grid_template_rows": null,
            "height": null,
            "justify_content": null,
            "justify_items": null,
            "left": null,
            "margin": null,
            "max_height": null,
            "max_width": null,
            "min_height": null,
            "min_width": null,
            "object_fit": null,
            "object_position": null,
            "order": null,
            "overflow": null,
            "overflow_x": null,
            "overflow_y": null,
            "padding": null,
            "right": null,
            "top": null,
            "visibility": null,
            "width": null
          }
        },
        "cf3554c992ea4f9b939a18379ecf723e": {
          "model_module": "@jupyter-widgets/controls",
          "model_name": "DescriptionStyleModel",
          "model_module_version": "1.5.0",
          "state": {
            "_model_module": "@jupyter-widgets/controls",
            "_model_module_version": "1.5.0",
            "_model_name": "DescriptionStyleModel",
            "_view_count": null,
            "_view_module": "@jupyter-widgets/base",
            "_view_module_version": "1.2.0",
            "_view_name": "StyleView",
            "description_width": ""
          }
        },
        "6fd1ca8f911246fc83b766cab5a36c17": {
          "model_module": "@jupyter-widgets/base",
          "model_name": "LayoutModel",
          "model_module_version": "1.2.0",
          "state": {
            "_model_module": "@jupyter-widgets/base",
            "_model_module_version": "1.2.0",
            "_model_name": "LayoutModel",
            "_view_count": null,
            "_view_module": "@jupyter-widgets/base",
            "_view_module_version": "1.2.0",
            "_view_name": "LayoutView",
            "align_content": null,
            "align_items": null,
            "align_self": null,
            "border": null,
            "bottom": null,
            "display": null,
            "flex": null,
            "flex_flow": null,
            "grid_area": null,
            "grid_auto_columns": null,
            "grid_auto_flow": null,
            "grid_auto_rows": null,
            "grid_column": null,
            "grid_gap": null,
            "grid_row": null,
            "grid_template_areas": null,
            "grid_template_columns": null,
            "grid_template_rows": null,
            "height": null,
            "justify_content": null,
            "justify_items": null,
            "left": null,
            "margin": null,
            "max_height": null,
            "max_width": null,
            "min_height": null,
            "min_width": null,
            "object_fit": null,
            "object_position": null,
            "order": null,
            "overflow": null,
            "overflow_x": null,
            "overflow_y": null,
            "padding": null,
            "right": null,
            "top": null,
            "visibility": null,
            "width": null
          }
        },
        "56580cb595cc4c299755ec79345b503d": {
          "model_module": "@jupyter-widgets/controls",
          "model_name": "ProgressStyleModel",
          "model_module_version": "1.5.0",
          "state": {
            "_model_module": "@jupyter-widgets/controls",
            "_model_module_version": "1.5.0",
            "_model_name": "ProgressStyleModel",
            "_view_count": null,
            "_view_module": "@jupyter-widgets/base",
            "_view_module_version": "1.2.0",
            "_view_name": "StyleView",
            "bar_color": null,
            "description_width": ""
          }
        },
        "79d5809ec3684317b54be4b2b97bee66": {
          "model_module": "@jupyter-widgets/base",
          "model_name": "LayoutModel",
          "model_module_version": "1.2.0",
          "state": {
            "_model_module": "@jupyter-widgets/base",
            "_model_module_version": "1.2.0",
            "_model_name": "LayoutModel",
            "_view_count": null,
            "_view_module": "@jupyter-widgets/base",
            "_view_module_version": "1.2.0",
            "_view_name": "LayoutView",
            "align_content": null,
            "align_items": null,
            "align_self": null,
            "border": null,
            "bottom": null,
            "display": null,
            "flex": null,
            "flex_flow": null,
            "grid_area": null,
            "grid_auto_columns": null,
            "grid_auto_flow": null,
            "grid_auto_rows": null,
            "grid_column": null,
            "grid_gap": null,
            "grid_row": null,
            "grid_template_areas": null,
            "grid_template_columns": null,
            "grid_template_rows": null,
            "height": null,
            "justify_content": null,
            "justify_items": null,
            "left": null,
            "margin": null,
            "max_height": null,
            "max_width": null,
            "min_height": null,
            "min_width": null,
            "object_fit": null,
            "object_position": null,
            "order": null,
            "overflow": null,
            "overflow_x": null,
            "overflow_y": null,
            "padding": null,
            "right": null,
            "top": null,
            "visibility": null,
            "width": null
          }
        },
        "ad2e6f3bdcaf41c3890cc35292a4463b": {
          "model_module": "@jupyter-widgets/controls",
          "model_name": "DescriptionStyleModel",
          "model_module_version": "1.5.0",
          "state": {
            "_model_module": "@jupyter-widgets/controls",
            "_model_module_version": "1.5.0",
            "_model_name": "DescriptionStyleModel",
            "_view_count": null,
            "_view_module": "@jupyter-widgets/base",
            "_view_module_version": "1.2.0",
            "_view_name": "StyleView",
            "description_width": ""
          }
        }
      }
    }
  },
  "cells": [
    {
      "cell_type": "code",
      "metadata": {
        "colab": {
          "base_uri": "https://localhost:8080/"
        },
        "id": "srr4JZKd1j6J",
        "outputId": "a17222ad-0320-49c5-9290-5048d9697fdf"
      },
      "source": [
        "from google.colab import drive\n",
        "drive.mount('/content/drive')"
      ],
      "execution_count": null,
      "outputs": [
        {
          "output_type": "stream",
          "name": "stdout",
          "text": [
            "Mounted at /content/drive\n"
          ]
        }
      ]
    },
    {
      "cell_type": "code",
      "metadata": {
        "colab": {
          "base_uri": "https://localhost:8080/"
        },
        "id": "DEs9INea2dUI",
        "outputId": "cee1b58a-6831-4e59-cc7d-c9a33dd78fba"
      },
      "source": [
        "%cd /content/drive/MyDrive/Colab Notebooks/visual recognition/HW1"
      ],
      "execution_count": null,
      "outputs": [
        {
          "output_type": "stream",
          "name": "stdout",
          "text": [
            "/content/drive/MyDrive/Colab Notebooks/visual recognition/HW1\n"
          ]
        }
      ]
    },
    {
      "cell_type": "code",
      "metadata": {
        "id": "yGtj63nJ2xV_"
      },
      "source": [
        "import os\n",
        "import numpy as np\n",
        "import sklearn.model_selection as skms\n",
        "import matplotlib.pyplot as plt\n",
        "\n",
        "import torch\n",
        "from torch import nn\n",
        "import torch.nn.functional as F\n",
        "import torchvision.transforms.functional as TF\n",
        "from torch.utils.data import Dataset\n",
        "import torchvision\n",
        "import torchvision.transforms as transforms\n",
        "import torchvision.models as models\n",
        "from tqdm import tqdm\n",
        "\n",
        "from PIL import Image"
      ],
      "execution_count": 1,
      "outputs": []
    },
    {
      "cell_type": "markdown",
      "source": [
        "# Step 1: Download Data"
      ],
      "metadata": {
        "id": "ibUn0hA2sp7d"
      }
    },
    {
      "cell_type": "code",
      "source": [
        "workspace_dir = '.'\n",
        "\n",
        "# gdown is a package that downloads files from google drive\n",
        "!gdown --id 1C63HlTAzOF0F6T5rh8hc8bRSruX0pBZO \\\n",
        "    --output \"{workspace_dir}/data.zip\""
      ],
      "metadata": {
        "colab": {
          "base_uri": "https://localhost:8080/"
        },
        "id": "7mokNVp3q-HA",
        "outputId": "090f5dd0-f068-4602-f5da-c73f654a0767"
      },
      "execution_count": 12,
      "outputs": [
        {
          "output_type": "stream",
          "name": "stdout",
          "text": [
            "/usr/local/lib/python3.7/dist-packages/gdown/cli.py:131: FutureWarning: Option `--id` was deprecated in version 4.3.1 and will be removed in 5.0. You don't need to pass it anymore to use a file ID.\n",
            "  category=FutureWarning,\n",
            "Downloading...\n",
            "From: https://drive.google.com/uc?id=1C63HlTAzOF0F6T5rh8hc8bRSruX0pBZO\n",
            "To: /content/data.zip\n",
            "100% 678M/678M [00:05<00:00, 122MB/s]\n"
          ]
        }
      ]
    },
    {
      "cell_type": "markdown",
      "source": [
        "##Decompress the dataset"
      ],
      "metadata": {
        "id": "G-U7i0VMsuc6"
      }
    },
    {
      "cell_type": "code",
      "source": [
        "import zipfile\n",
        "import pathlib\n",
        "\n",
        "\n",
        "data_dir = 'data'\n",
        "with zipfile.ZipFile(\"data.zip\", 'r') as zip_ref:\n",
        "    zip_ref.extractall(data_dir)"
      ],
      "metadata": {
        "id": "BYeByAPts938"
      },
      "execution_count": 13,
      "outputs": []
    },
    {
      "cell_type": "markdown",
      "metadata": {
        "id": "FJYA6I2LQrVR"
      },
      "source": [
        "# Load data\n"
      ]
    },
    {
      "cell_type": "code",
      "metadata": {
        "id": "NRTeat5Fep9n"
      },
      "source": [
        "class MyDataset(Dataset):\n",
        "  def __init__(self , img_dir, label_path , test_mode, transform = None):\n",
        "\n",
        "    label_data = open(label_path, 'r')\n",
        "    imgs = []\n",
        "\n",
        "    for x in label_data:\n",
        "      x = x.rstrip()\n",
        "      if not test_mode :\n",
        "        data = x.split()\n",
        "        imgs.append((data[0], data[1]))\n",
        "      else:\n",
        "        imgs.append(x)\n",
        "        \n",
        "    if not test_mode :\n",
        "      self.img_path = [os.path.join(img_dir,x[0]) for x in imgs]\n",
        "      self.label = [int(x[1].split(\".\")[0])-1 for x in imgs]\n",
        "    else : \n",
        "      self.img_path = [os.path.join(img_dir,x) for x in imgs]\n",
        "      self.label = [int(x[0].split(\".\")[0]) for x in imgs]\n",
        "\n",
        "    self.transform = transform\n",
        "\n",
        "  def __getitem__(self,index):\n",
        "    img_path = self.img_path[index]\n",
        "    label = self.label[index]\n",
        "    img = Image.open(img_path).convert(\"RGB\")\n",
        "    \n",
        "\n",
        "    if self.transform is not None:\n",
        "      img = self.transform(img)\n",
        "    return img,label\n",
        "\n",
        "  def __len__(self):\n",
        "    return len(self.img_path)\n"
      ],
      "execution_count": 2,
      "outputs": []
    },
    {
      "cell_type": "code",
      "metadata": {
        "id": "W7IEiOQD2PmS"
      },
      "source": [
        "def pad(img, fill=0, size_max=500):\n",
        "    \"\"\"\n",
        "    Pads images to the specified size (height x width). \n",
        "    Fills up the padded area with value(s) passed to the `fill` parameter. \n",
        "    \"\"\"\n",
        "    pad_height = max(0, size_max - img.height)\n",
        "    pad_width = max(0, size_max - img.width)\n",
        "    \n",
        "    pad_top = pad_height // 2\n",
        "    pad_bottom = pad_height - pad_top\n",
        "    pad_left = pad_width // 2\n",
        "    pad_right = pad_width - pad_left\n",
        "    \n",
        "    return TF.pad(img, (pad_left, pad_top, pad_right, pad_bottom), fill=fill)"
      ],
      "execution_count": 3,
      "outputs": []
    },
    {
      "cell_type": "code",
      "metadata": {
        "id": "hlVEyEgzTxNC"
      },
      "source": [
        "fill = tuple(map(lambda x: int(round(x * 256)), (0.485, 0.456, 0.406)))\n",
        "max_padding = transforms.Lambda(lambda x: pad(x, fill=fill))\n",
        "\n",
        "train_transform = transforms.Compose([max_padding,\n",
        "                    transforms.RandomOrder([                                                            transforms.RandomHorizontalFlip(),\n",
        "                    transforms.RandomRotation(10),\n",
        "                    transforms.RandomHorizontalFlip(p=0.5),\n",
        "                    transforms.RandomCrop((375, 375))]),\n",
        "                    transforms.ToTensor(),\n",
        "                    transforms.Normalize(mean=[0.485, 0.456, 0.406], \n",
        "                              std=[0.229, 0.224, 0.225])])\n",
        "\n",
        "test_transform = transforms.Compose([max_padding,\n",
        "                    transforms.CenterCrop((375, 375)),                     \n",
        "                    transforms.ToTensor(),\n",
        "                    transforms.Normalize(mean=[0.485, 0.456, 0.406], \n",
        "                              std=[0.229, 0.224, 0.225])])"
      ],
      "execution_count": 4,
      "outputs": []
    },
    {
      "cell_type": "code",
      "metadata": {
        "id": "mkRaHRYBQIeH"
      },
      "source": [
        "batch_size = 24\n",
        "train_dir = 'data/training_images'\n",
        "test_dir = 'data/testing_images'\n",
        "train_label_path = 'data/training_labels.txt'\n",
        "test_label = 'data/testing_img_order.txt'\n",
        "test_mode = False\n",
        "\n",
        "img_dir = train_dir\n",
        "label_path = train_label_path\n",
        "\n",
        "\n",
        "full_dataset = MyDataset(img_dir = train_dir,\n",
        "            label_path = train_label_path ,\n",
        "            test_mode = False,\n",
        "            transform = train_transform)\n",
        "\n",
        "test_datasets = MyDataset(img_dir = test_dir,\n",
        "              label_path = test_label,\n",
        "              test_mode = True,\n",
        "              transform = test_transform)\n",
        "\n",
        "train_size = int(0.8 * len(full_dataset))\n",
        "test_size = len(full_dataset) - train_size\n",
        "train_datasets, valid_datasets = torch.utils.data.random_split(full_dataset, [train_size, test_size])\n",
        "\n",
        "with open('data/classes.txt') as f:\n",
        "  class_data = [ x.strip() for x in f.readlines()]\n"
      ],
      "execution_count": 15,
      "outputs": []
    },
    {
      "cell_type": "code",
      "metadata": {
        "colab": {
          "base_uri": "https://localhost:8080/"
        },
        "id": "2035EetOxU06",
        "outputId": "f9fa394e-4597-4196-f5ca-e203824efedb"
      },
      "source": [
        "## caculate the average size of image\n",
        "dataset = full_dataset\n",
        "ds = dataset.img_path\n",
        "shapes = []\n",
        "\n",
        "for path in ds:\n",
        "  images = Image.open(path).convert(\"RGB\")\n",
        "  shapes.append([images.height,images.width])\n",
        "heights, widths = [[h for h,_ in shapes], [w for _,w in shapes]]\n",
        "print('Average sizes:', *map(np.median, zip(*shapes)))"
      ],
      "execution_count": 19,
      "outputs": [
        {
          "output_type": "stream",
          "name": "stdout",
          "text": [
            "Average sizes: 375.0 500.0\n"
          ]
        }
      ]
    },
    {
      "cell_type": "code",
      "metadata": {
        "colab": {
          "base_uri": "https://localhost:8080/",
          "height": 338
        },
        "id": "8XRYqSXTbcob",
        "outputId": "496c1e34-2f9b-40ff-b913-e259595c4903"
      },
      "source": [
        "# functions to show an image\n",
        "def imshow(img):\n",
        "    img = img / 2 + 0.5     # unnormalize\n",
        "    npimg = img.numpy()\n",
        "    plt.imshow(np.transpose(npimg, (1, 2, 0)))\n",
        "\n",
        "index = 599\n",
        "dataset = full_dataset\n",
        "img,label = dataset.__getitem__(index)\n",
        "imshow(img)\n",
        "print(dataset.img_path[index])\n",
        "print(label)\n",
        "print(class_data[label])"
      ],
      "execution_count": 20,
      "outputs": [
        {
          "output_type": "stream",
          "name": "stderr",
          "text": [
            "Clipping input data to the valid range for imshow with RGB data ([0..1] for floats or [0..255] for integers).\n"
          ]
        },
        {
          "output_type": "stream",
          "name": "stdout",
          "text": [
            "data/training_images/2796.jpg\n",
            "2\n",
            "003.Sooty_Albatross\n"
          ]
        },
        {
          "output_type": "display_data",
          "data": {
            "text/plain": [
              "<Figure size 432x288 with 1 Axes>"
            ],
            "image/png": "[encoded data removed]"
          },
          "metadata": {
            "needs_background": "light"
          }
        }
      ]
    },
    {
      "cell_type": "code",
      "metadata": {
        "id": "Ia7hauyoXkpj"
      },
      "source": [
        "train_loader = torch.utils.data.DataLoader(train_datasets, batch_size=batch_size, shuffle=True, num_workers=2)\n",
        "valid_loader = torch.utils.data.DataLoader(valid_datasets, batch_size=batch_size, shuffle=False, num_workers=2)  \n",
        "test_loader = torch.utils.data.DataLoader(test_datasets, batch_size=batch_size, shuffle=False, num_workers=2)    "
      ],
      "execution_count": 21,
      "outputs": []
    },
    {
      "cell_type": "code",
      "metadata": {
        "colab": {
          "base_uri": "https://localhost:8080/"
        },
        "id": "2yW5Bh8xkh7t",
        "outputId": "0da5aad5-eb89-43de-bfdd-d02333c09522"
      },
      "source": [
        "print(len(train_datasets))\n",
        "print(len(valid_datasets))\n",
        "print(len(test_datasets))"
      ],
      "execution_count": 22,
      "outputs": [
        {
          "output_type": "stream",
          "name": "stdout",
          "text": [
            "2400\n",
            "600\n",
            "3033\n"
          ]
        }
      ]
    },
    {
      "cell_type": "code",
      "metadata": {
        "colab": {
          "base_uri": "https://localhost:8080/"
        },
        "id": "1vo6RMkhkm5w",
        "outputId": "91eb3c5d-d1dc-4730-c7ea-21253e3da521"
      },
      "source": [
        "print(len(train_loader))\n",
        "print(len(valid_loader))\n",
        "print(len(test_loader))"
      ],
      "execution_count": 23,
      "outputs": [
        {
          "output_type": "stream",
          "name": "stdout",
          "text": [
            "100\n",
            "25\n",
            "127\n"
          ]
        }
      ]
    },
    {
      "cell_type": "code",
      "metadata": {
        "colab": {
          "base_uri": "https://localhost:8080/"
        },
        "id": "sVH-e3ue3Oda",
        "outputId": "8b092021-359c-46af-fc41-e808e7f463cd"
      },
      "source": [
        "for batch_idx, data in enumerate(valid_loader):\n",
        "  img, label = data\n",
        "  print(img[0].size())\n",
        "  break"
      ],
      "execution_count": 24,
      "outputs": [
        {
          "output_type": "stream",
          "name": "stdout",
          "text": [
            "torch.Size([3, 375, 375])\n"
          ]
        }
      ]
    },
    {
      "cell_type": "markdown",
      "metadata": {
        "id": "pg0UPlgwUKSq"
      },
      "source": [
        "# Load Pretrain Model"
      ]
    },
    {
      "cell_type": "code",
      "metadata": {
        "colab": {
          "base_uri": "https://localhost:8080/",
          "height": 84,
          "referenced_widgets": [
            "959134a66aef48ed8f76e725f0abdd63",
            "1be216de4e484fb1a9b74ded3aec0f7d",
            "e30f11e75c964306b07aa2382f756554",
            "8e321708919b4b6ca3d487f7756a6890",
            "a6e09d4060b64377aac545c5fd720442",
            "db9f11d89ab146b3acf1930c127c68bd",
            "cf3554c992ea4f9b939a18379ecf723e",
            "6fd1ca8f911246fc83b766cab5a36c17",
            "56580cb595cc4c299755ec79345b503d",
            "79d5809ec3684317b54be4b2b97bee66",
            "ad2e6f3bdcaf41c3890cc35292a4463b"
          ]
        },
        "id": "dXrZjAKZ3jhn",
        "outputId": "28384c92-1dbd-41e5-bde0-247b4fc3bc3f"
      },
      "source": [
        "model_name = 'resnet10.pth'\n",
        "\n",
        "if os.path.isfile(model_name):\n",
        "  model = models.resnet50(pretrained = False)\n",
        "  fc_features = model.fc.in_features \n",
        "  model.fc = nn.Linear(fc_features, len(class_data))\n",
        "  model.load_state_dict(torch.load(model_name))\n",
        "  print(\"old\")\n",
        "else :\n",
        "  # Load model\n",
        "  model = models.resnet50(pretrained = True)\n",
        "  #for param in model.parameters():\n",
        "  #  param.requires_grad = False\n",
        "  fc_features = model.fc.in_features \n",
        "  model.fc = nn.Linear(fc_features, len(class_data))\n",
        "  print(\"new\")"
      ],
      "execution_count": 25,
      "outputs": [
        {
          "output_type": "stream",
          "name": "stderr",
          "text": [
            "Downloading: \"https://download.pytorch.org/models/resnet50-0676ba61.pth\" to /root/.cache/torch/hub/checkpoints/resnet50-0676ba61.pth\n"
          ]
        },
        {
          "output_type": "display_data",
          "data": {
            "text/plain": [
              "  0%|          | 0.00/97.8M [00:00<?, ?B/s]"
            ],
            "application/vnd.jupyter.widget-view+json": {
              "version_major": 2,
              "version_minor": 0,
              "model_id": "959134a66aef48ed8f76e725f0abdd63"
            }
          },
          "metadata": {}
        },
        {
          "output_type": "stream",
          "name": "stdout",
          "text": [
            "new\n"
          ]
        }
      ]
    },
    {
      "cell_type": "markdown",
      "source": [
        "## Chech GPU\n"
      ],
      "metadata": {
        "id": "WvgU4cU_0gJY"
      }
    },
    {
      "cell_type": "code",
      "metadata": {
        "colab": {
          "base_uri": "https://localhost:8080/"
        },
        "id": "KRnFOCm_jW4Q",
        "outputId": "416fb6ce-ade7-4d95-da3d-4024fb3302cb"
      },
      "source": [
        "device = torch.device(\"cuda\")\n",
        "if torch.cuda.is_available():\n",
        "  model = model.to(device)\n",
        "  print(\"Success\")"
      ],
      "execution_count": 26,
      "outputs": [
        {
          "output_type": "stream",
          "name": "stdout",
          "text": [
            "Success\n"
          ]
        }
      ]
    },
    {
      "cell_type": "code",
      "metadata": {
        "id": "Gm8da_xTilbm"
      },
      "source": [
        "def train(model, train_loader, val_loader, epochs, criterion, optimizer, scheduler ):\n",
        "  valid_loss_min = np.Inf\n",
        "\n",
        "  for epoch in range(1, epochs+1):\n",
        "    model.train()\n",
        "    train_loss = 0.0\n",
        "    valid_loss = 0.0\n",
        "    print('running epoch:{}'.format(epoch))\n",
        "\n",
        "    #train the model\n",
        "    for data in tqdm(train_loader):\n",
        "      img, label = data\n",
        "      img, label = img.cuda(), label.cuda()\n",
        "\n",
        "      #Forward propagation \n",
        "      optimizer.zero_grad()\n",
        "      output = model(img)\n",
        "      loss = criterion(output,label)\n",
        "\n",
        "      #Back propagation & update weights \n",
        "      loss.backward()\n",
        "      optimizer.step()\n",
        "\n",
        "      train_loss += loss.item()*img.size(0)\n",
        "\n",
        "    #validata the model\n",
        "    model.eval()\n",
        "    with torch.no_grad():\n",
        "      for data in tqdm(val_loader):\n",
        "        img, label = data\n",
        "        img,label = img.cuda(), label.cuda()\n",
        "\n",
        "        output = model(img)\n",
        "        loss = criterion(output,label)\n",
        "        valid_loss += loss.item()*img.size(0)\n",
        "\n",
        "      #calculate average losses\n",
        "      train_loss = train_loss/len(train_loader.dataset)\n",
        "      valid_loss = valid_loss/len(val_loader.dataset)\n",
        "\n",
        "      print('\\tTraining loss: {:.6f} \\tValidation Loss: {:.6f}'.format(train_loss, valid_loss))\n",
        "\n",
        "      #save model if validation loss has decreased\n",
        "      if valid_loss <= valid_loss_min:\n",
        "        print('Validation loss decreased ({:.6f} --> {:.6f}). Saving model...'.format(valid_loss_min,valid_loss))\n",
        "        torch.save(model.state_dict(),model_name)\n",
        "        valid_loss_min = valid_loss\n",
        "\n",
        "    scheduler.step()"
      ],
      "execution_count": 27,
      "outputs": []
    },
    {
      "cell_type": "code",
      "metadata": {
        "id": "hxtMAPdHqow2"
      },
      "source": [
        "def test(model, valid_loader, criterion):\n",
        "\n",
        "  test_loss = 0.\n",
        "  correct = 0.\n",
        "  total = 0.\n",
        "\n",
        "  model.eval()\n",
        "  with torch.no_grad():\n",
        "    for batch_idx, data in enumerate(valid_loader):\n",
        "      img, label = data\n",
        "      img,label = img.cuda(), label.cuda()\n",
        "      output = model(img)\n",
        "      loss = criterion(output, label)\n",
        "      test_loss = test_loss + ((1 / (batch_idx + 1))*(loss.data - test_loss))\n",
        "      pred = torch.max(output,1).indices\n",
        "      correct += torch.sum (label == pred)\n",
        "      total += img.size(0)\n",
        " \n",
        "  print('Test Loss: {:.6f}'.format(test_loss))\n",
        "\n",
        "  print('Test Accuracy: %2d%% (%2d/%2d)' % (100. * correct / total, correct, total))"
      ],
      "execution_count": 28,
      "outputs": []
    },
    {
      "cell_type": "code",
      "metadata": {
        "colab": {
          "base_uri": "https://localhost:8080/"
        },
        "id": "0QJE1VOHsLoZ",
        "outputId": "858e2573-49a1-4ecb-8469-ace5cc476380"
      },
      "source": [
        "epochs = 15\n",
        "criterion = nn.CrossEntropyLoss()\n",
        "optimizer = torch.optim.Adam(model.parameters(), lr = 1e-4)\n",
        "scheduler = torch.optim.lr_scheduler.ExponentialLR(optimizer, gamma=0.95)\n",
        "train(model, train_loader, valid_loader, epochs, criterion, optimizer, scheduler)"
      ],
      "execution_count": null,
      "outputs": [
        {
          "output_type": "stream",
          "name": "stdout",
          "text": [
            "running epoch:1\n"
          ]
        },
        {
          "output_type": "stream",
          "name": "stderr",
          "text": [
            "100%|██████████| 100/100 [02:48<00:00,  1.68s/it]\n",
            "100%|██████████| 25/25 [00:15<00:00,  1.65it/s]\n"
          ]
        },
        {
          "output_type": "stream",
          "name": "stdout",
          "text": [
            "\tTraining loss: 0.123434 \tValidation Loss: 1.785119\n",
            "Validation loss decreased (inf --> 1.785119). Saving model...\n",
            "running epoch:2\n"
          ]
        },
        {
          "output_type": "stream",
          "name": "stderr",
          "text": [
            "100%|██████████| 100/100 [02:47<00:00,  1.68s/it]\n",
            "100%|██████████| 25/25 [00:15<00:00,  1.64it/s]\n"
          ]
        },
        {
          "output_type": "stream",
          "name": "stdout",
          "text": [
            "\tTraining loss: 0.121567 \tValidation Loss: 1.681372\n",
            "Validation loss decreased (1.785119 --> 1.681372). Saving model...\n",
            "running epoch:3\n"
          ]
        },
        {
          "output_type": "stream",
          "name": "stderr",
          "text": [
            "100%|██████████| 100/100 [02:47<00:00,  1.68s/it]\n",
            "100%|██████████| 25/25 [00:15<00:00,  1.64it/s]\n"
          ]
        },
        {
          "output_type": "stream",
          "name": "stdout",
          "text": [
            "\tTraining loss: 0.071622 \tValidation Loss: 1.432514\n",
            "Validation loss decreased (1.681372 --> 1.432514). Saving model...\n",
            "running epoch:4\n"
          ]
        },
        {
          "output_type": "stream",
          "name": "stderr",
          "text": [
            "100%|██████████| 100/100 [02:47<00:00,  1.68s/it]\n",
            "100%|██████████| 25/25 [00:15<00:00,  1.63it/s]\n"
          ]
        },
        {
          "output_type": "stream",
          "name": "stdout",
          "text": [
            "\tTraining loss: 0.047046 \tValidation Loss: 1.279922\n",
            "Validation loss decreased (1.432514 --> 1.279922). Saving model...\n",
            "running epoch:5\n"
          ]
        },
        {
          "output_type": "stream",
          "name": "stderr",
          "text": [
            "100%|██████████| 100/100 [02:47<00:00,  1.68s/it]\n",
            "100%|██████████| 25/25 [00:15<00:00,  1.64it/s]\n"
          ]
        },
        {
          "output_type": "stream",
          "name": "stdout",
          "text": [
            "\tTraining loss: 0.045717 \tValidation Loss: 1.429797\n",
            "running epoch:6\n"
          ]
        },
        {
          "output_type": "stream",
          "name": "stderr",
          "text": [
            "100%|██████████| 100/100 [02:47<00:00,  1.68s/it]\n",
            "100%|██████████| 25/25 [00:15<00:00,  1.64it/s]\n"
          ]
        },
        {
          "output_type": "stream",
          "name": "stdout",
          "text": [
            "\tTraining loss: 0.041979 \tValidation Loss: 1.314798\n",
            "running epoch:7\n"
          ]
        },
        {
          "output_type": "stream",
          "name": "stderr",
          "text": [
            "100%|██████████| 100/100 [02:48<00:00,  1.68s/it]\n",
            "100%|██████████| 25/25 [00:15<00:00,  1.64it/s]\n"
          ]
        },
        {
          "output_type": "stream",
          "name": "stdout",
          "text": [
            "\tTraining loss: 0.045447 \tValidation Loss: 1.671375\n",
            "running epoch:8\n"
          ]
        },
        {
          "output_type": "stream",
          "name": "stderr",
          "text": [
            " 93%|█████████▎| 93/100 [02:36<00:11,  1.67s/it]"
          ]
        }
      ]
    },
    {
      "cell_type": "code",
      "metadata": {
        "id": "FJ-OZfG7icUX"
      },
      "source": [
        "criterion = nn.CrossEntropyLoss()\n",
        "test(model, valid_loader, criterion)"
      ],
      "execution_count": null,
      "outputs": []
    },
    {
      "cell_type": "markdown",
      "metadata": {
        "id": "DD2fOs4Y2mnf"
      },
      "source": [
        "# submission\n"
      ]
    },
    {
      "cell_type": "code",
      "metadata": {
        "id": "Ik52otSx2u0n"
      },
      "source": [
        "def submission(model, datasets, loader):\n",
        "  model.eval()\n",
        "  \n",
        "  with torch.no_grad():\n",
        "    submission = []\n",
        "    index = 0\n",
        "    for data in tqdm(loader):\n",
        "      img, label = data\n",
        "      img = img.cuda()\n",
        "\n",
        "      output = model(img) # the predicted category \n",
        "      predicted_class=torch.max(output,1).indices\n",
        "\n",
        "      for i in range(len(predicted_class)):\n",
        "        img_path = datasets.img_path[index * batch_size + i].split(\"/\")[1]\n",
        "        submission.append([img_path, str(class_data[int(predicted_class[i])])])\n",
        "\n",
        "      index += 1\n",
        "\n",
        "  np.savetxt('answer.txt', submission, fmt='%s')"
      ],
      "execution_count": 29,
      "outputs": []
    },
    {
      "cell_type": "code",
      "metadata": {
        "id": "javpLOc6HaGs",
        "colab": {
          "base_uri": "https://localhost:8080/"
        },
        "outputId": "6728e932-41b0-4f19-e9e2-e7cbb168a0da"
      },
      "source": [
        "submission(model, test_datasets, test_loader)"
      ],
      "execution_count": 30,
      "outputs": [
        {
          "output_type": "stream",
          "name": "stderr",
          "text": [
            "100%|██████████| 127/127 [00:30<00:00,  4.19it/s]\n"
          ]
        }
      ]
    }
  ]
}