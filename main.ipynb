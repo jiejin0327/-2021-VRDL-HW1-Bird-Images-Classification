{
  "nbformat": 4,
  "nbformat_minor": 0,
  "metadata": {
    "accelerator": "GPU",
    "colab": {
      "name": "main.ipynb",
      "provenance": [],
      "collapsed_sections": [],
      "include_colab_link": true
    },
    "kernelspec": {
      "display_name": "Python 3",
      "name": "python3"
    },
    "language_info": {
      "name": "python"
    }
  },
  "cells": [
    {
      "cell_type": "markdown",
      "metadata": {
        "id": "view-in-github",
        "colab_type": "text"
      },
      "source": [
        "<a href=\"https://colab.research.google.com/github/jiejin0327/bird-species-classification/blob/main/main.ipynb\" target=\"_parent\"><img src=\"https://colab.research.google.com/assets/colab-badge.svg\" alt=\"Open In Colab\"/></a>"
      ]
    },
    {
      "cell_type": "code",
      "metadata": {
        "colab": {
          "base_uri": "https://localhost:8080/"
        },
        "id": "srr4JZKd1j6J",
        "outputId": "cb6ef3c5-6b97-4215-b57e-f8f0edf954ed"
      },
      "source": [
        "from google.colab import drive\n",
        "drive.mount('/content/drive')"
      ],
      "execution_count": 1,
      "outputs": [
        {
          "output_type": "stream",
          "name": "stdout",
          "text": [
            "Mounted at /content/drive\n"
          ]
        }
      ]
    },
    {
      "cell_type": "code",
      "metadata": {
        "colab": {
          "base_uri": "https://localhost:8080/"
        },
        "id": "DEs9INea2dUI",
        "outputId": "b9934c0d-bdc7-4ce3-f5e3-78f9192052c3"
      },
      "source": [
        "%cd /content/drive/MyDrive/Colab Notebooks/visual recognition/HW1"
      ],
      "execution_count": 3,
      "outputs": [
        {
          "output_type": "stream",
          "name": "stdout",
          "text": [
            "/content/drive/MyDrive/Colab Notebooks/visual recognition/HW1\n"
          ]
        }
      ]
    },
    {
      "cell_type": "code",
      "metadata": {
        "id": "yGtj63nJ2xV_"
      },
      "source": [
        "import os\n",
        "import numpy as np\n",
        "import sklearn.model_selection as skms\n",
        "import matplotlib.pyplot as plt\n",
        "\n",
        "import torch\n",
        "from torch import nn\n",
        "import torch.nn.functional as F\n",
        "import torchvision.transforms.functional as TF\n",
        "from torch.utils.data import Dataset\n",
        "import torchvision\n",
        "import torchvision.transforms as transforms\n",
        "import torchvision.models as models\n",
        "from tqdm import tqdm\n",
        "\n",
        "from PIL import Image"
      ],
      "execution_count": 4,
      "outputs": []
    },
    {
      "cell_type": "markdown",
      "metadata": {
        "id": "FJYA6I2LQrVR"
      },
      "source": [
        "# Load data\n"
      ]
    },
    {
      "cell_type": "code",
      "metadata": {
        "id": "NRTeat5Fep9n"
      },
      "source": [
        "class MyDataset(Dataset):\n",
        "  def __init__(self , img_dir, label_path , test_mode, transform = None):\n",
        "\n",
        "    label_data = open(label_path, 'r')\n",
        "    imgs = []\n",
        "\n",
        "    for x in label_data:\n",
        "      x = x.rstrip()\n",
        "      if not test_mode :\n",
        "        data = x.split()\n",
        "        imgs.append((data[0], data[1]))\n",
        "      else:\n",
        "        imgs.append(x)\n",
        "        \n",
        "    if not test_mode :\n",
        "      self.img_path = [os.path.join(img_dir,x[0]) for x in imgs]\n",
        "      self.label = [int(x[1].split(\".\")[0])-1 for x in imgs]\n",
        "    else : \n",
        "      self.img_path = [os.path.join(img_dir,x) for x in imgs]\n",
        "      self.label = [int(x[0].split(\".\")[0]) for x in imgs]\n",
        "\n",
        "    self.transform = transform\n",
        "\n",
        "  def __getitem__(self,index):\n",
        "    img_path = self.img_path[index]\n",
        "    label = self.label[index]\n",
        "    img = Image.open(img_path).convert(\"RGB\")\n",
        "    \n",
        "\n",
        "    if self.transform is not None:\n",
        "      img = self.transform(img)\n",
        "    return img,label\n",
        "\n",
        "  def __len__(self):\n",
        "    return len(self.img_path)\n"
      ],
      "execution_count": null,
      "outputs": []
    },
    {
      "cell_type": "code",
      "metadata": {
        "id": "W7IEiOQD2PmS"
      },
      "source": [
        "def pad(img, fill=0, size_max=500):\n",
        "    \"\"\"\n",
        "    Pads images to the specified size (height x width). \n",
        "    Fills up the padded area with value(s) passed to the `fill` parameter. \n",
        "    \"\"\"\n",
        "    pad_height = max(0, size_max - img.height)\n",
        "    pad_width = max(0, size_max - img.width)\n",
        "    \n",
        "    pad_top = pad_height // 2\n",
        "    pad_bottom = pad_height - pad_top\n",
        "    pad_left = pad_width // 2\n",
        "    pad_right = pad_width - pad_left\n",
        "    \n",
        "    return TF.pad(img, (pad_left, pad_top, pad_right, pad_bottom), fill=fill)"
      ],
      "execution_count": null,
      "outputs": []
    },
    {
      "cell_type": "code",
      "metadata": {
        "id": "hlVEyEgzTxNC"
      },
      "source": [
        "fill = tuple(map(lambda x: int(round(x * 256)), (0.485, 0.456, 0.406)))\n",
        "max_padding = transforms.Lambda(lambda x: pad(x, fill=fill))\n",
        "\n",
        "train_transform = transforms.Compose([max_padding,\n",
        "                    transforms.RandomOrder([                                                            transforms.RandomHorizontalFlip(),\n",
        "                    transforms.RandomRotation(10),\n",
        "                    transforms.RandomCrop((375, 375))]),\n",
        "                    transforms.ToTensor(),\n",
        "                    transforms.Normalize(mean=[0.485, 0.456, 0.406], \n",
        "                              std=[0.229, 0.224, 0.225])])\n",
        "\n",
        "test_transform = transforms.Compose([max_padding,\n",
        "                    transforms.CenterCrop((375, 375)),                     \n",
        "                    transforms.ToTensor(),\n",
        "                    transforms.Normalize(mean=[0.485, 0.456, 0.406], \n",
        "                              std=[0.229, 0.224, 0.225])])"
      ],
      "execution_count": null,
      "outputs": []
    },
    {
      "cell_type": "code",
      "metadata": {
        "id": "mkRaHRYBQIeH"
      },
      "source": [
        "batch_size = 24\n",
        "train_dir = 'training_images'\n",
        "test_dir = 'testing_images'\n",
        "train_label_path = 'training_labels.txt'\n",
        "test_label = 'testing_img_order.txt'\n",
        "test_mode = False\n",
        "\n",
        "img_dir = train_dir\n",
        "label_path = train_label_path\n",
        "\n",
        "\n",
        "full_dataset = MyDataset(img_dir = train_dir,\n",
        "            label_path = train_label_path ,\n",
        "            test_mode = False,\n",
        "            transform = train_transform)\n",
        "\n",
        "test_datasets = MyDataset(img_dir = test_dir,\n",
        "              label_path = test_label,\n",
        "              test_mode = True,\n",
        "              transform = test_transform)\n",
        "\n",
        "train_size = int(0.8 * len(full_dataset))\n",
        "test_size = len(full_dataset) - train_size\n",
        "train_datasets, valid_datasets = torch.utils.data.random_split(full_dataset, [train_size, test_size])\n",
        "\n",
        "with open('classes.txt') as f:\n",
        "  class_data = [ x.strip() for x in f.readlines()]\n"
      ],
      "execution_count": null,
      "outputs": []
    },
    {
      "cell_type": "code",
      "metadata": {
        "colab": {
          "base_uri": "https://localhost:8080/"
        },
        "id": "2035EetOxU06",
        "outputId": "d6f00ea6-3f90-4cf3-aabd-5603a68b3820"
      },
      "source": [
        "dataset = full_dataset\n",
        "ds = dataset.img_path\n",
        "shapes = [(Image.open(path).convert(\"RGB\").height, Image.open(path).convert(\"RGB\").width) for path in ds]\n",
        "heights, widths = [[h for h,_ in shapes], [w for _,w in shapes]]\n",
        "print('Average sizes:', *map(np.median, zip(*shapes)))"
      ],
      "execution_count": null,
      "outputs": [
        {
          "output_type": "stream",
          "name": "stdout",
          "text": [
            "Average sizes: 375.0 500.0\n"
          ]
        }
      ]
    },
    {
      "cell_type": "code",
      "metadata": {
        "colab": {
          "base_uri": "https://localhost:8080/",
          "height": 337
        },
        "id": "8XRYqSXTbcob",
        "outputId": "db7946ed-55cd-4d11-9e01-4f0c77755f35"
      },
      "source": [
        "# functions to show an image\n",
        "def imshow(img):\n",
        "    img = img / 2 + 0.5     # unnormalize\n",
        "    npimg = img.numpy()\n",
        "    plt.imshow(np.transpose(npimg, (1, 2, 0)))\n",
        "\n",
        "index = 598\n",
        "dataset = full_dataset\n",
        "img,label = dataset.__getitem__(index)\n",
        "imshow(img)\n",
        "print(dataset.img_path[index])\n",
        "print(label)\n",
        "print(class_data[label])"
      ],
      "execution_count": null,
      "outputs": [
        {
          "output_type": "stream",
          "name": "stderr",
          "text": [
            "Clipping input data to the valid range for imshow with RGB data ([0..1] for floats or [0..255] for integers).\n"
          ]
        },
        {
          "output_type": "stream",
          "name": "stdout",
          "text": [
            "training_images/5167.jpg\n",
            "56\n",
            "057.Rose_breasted_Grosbeak\n"
          ]
        },
        {
          "output_type": "display_data",
          "data": {
            "image/png": "[encoded data removed]",
            "text/plain": [
              "<Figure size 432x288 with 1 Axes>"
            ]
          },
          "metadata": {
            "needs_background": "light"
          }
        }
      ]
    },
    {
      "cell_type": "code",
      "metadata": {
        "id": "Ia7hauyoXkpj"
      },
      "source": [
        "train_loader = torch.utils.data.DataLoader(train_datasets, batch_size=batch_size, shuffle=True, num_workers=2)\n",
        "valid_loader = torch.utils.data.DataLoader(valid_datasets, batch_size=batch_size, shuffle=False, num_workers=2)  \n",
        "test_loader = torch.utils.data.DataLoader(test_datasets, batch_size=batch_size, shuffle=False, num_workers=2)    "
      ],
      "execution_count": null,
      "outputs": []
    },
    {
      "cell_type": "code",
      "metadata": {
        "colab": {
          "base_uri": "https://localhost:8080/"
        },
        "id": "2yW5Bh8xkh7t",
        "outputId": "bd0231a7-e23f-4c45-b517-2000d7f9a0b1"
      },
      "source": [
        "print(len(train_datasets))\n",
        "print(len(valid_datasets))\n",
        "print(len(test_datasets))"
      ],
      "execution_count": null,
      "outputs": [
        {
          "output_type": "stream",
          "name": "stdout",
          "text": [
            "2400\n",
            "600\n",
            "3033\n"
          ]
        }
      ]
    },
    {
      "cell_type": "code",
      "metadata": {
        "colab": {
          "base_uri": "https://localhost:8080/"
        },
        "id": "1vo6RMkhkm5w",
        "outputId": "e3a27c74-5d08-448b-adaf-078388b0134c"
      },
      "source": [
        "print(len(train_loader))\n",
        "print(len(valid_loader))\n",
        "print(len(test_loader))"
      ],
      "execution_count": null,
      "outputs": [
        {
          "output_type": "stream",
          "name": "stdout",
          "text": [
            "100\n",
            "25\n",
            "127\n"
          ]
        }
      ]
    },
    {
      "cell_type": "code",
      "metadata": {
        "colab": {
          "base_uri": "https://localhost:8080/"
        },
        "id": "sVH-e3ue3Oda",
        "outputId": "0ce35d43-d47e-4555-e0e5-100801912abc"
      },
      "source": [
        "for batch_idx, data in enumerate(valid_loader):\n",
        "  img, label = data\n",
        "  print(img[0].size())\n",
        "  break"
      ],
      "execution_count": null,
      "outputs": [
        {
          "output_type": "stream",
          "name": "stdout",
          "text": [
            "torch.Size([3, 375, 375])\n"
          ]
        }
      ]
    },
    {
      "cell_type": "markdown",
      "metadata": {
        "id": "pg0UPlgwUKSq"
      },
      "source": [
        "# Load Pretrain Model"
      ]
    },
    {
      "cell_type": "code",
      "metadata": {
        "colab": {
          "base_uri": "https://localhost:8080/"
        },
        "id": "dXrZjAKZ3jhn",
        "outputId": "b5449e7f-bff9-4f73-9119-ab1e2e8c65fb"
      },
      "source": [
        "import torchvision.models as models\n",
        "model_name = 'resnet9.pth'\n",
        "\n",
        "if os.path.isfile(model_name):\n",
        "  model = models.resnet50(pretrained = False)\n",
        "  fc_features = model.fc.in_features \n",
        "  model.fc = nn.Linear(fc_features, len(class_data))\n",
        "  model.load_state_dict(torch.load(model_name))\n",
        "  print(\"old\")\n",
        "else :\n",
        "  # Load model\n",
        "  model = models.resnet50(pretrained = True)\n",
        "  #for param in model.parameters():\n",
        "  #  param.requires_grad = False\n",
        "  fc_features = model.fc.in_features \n",
        "  model.fc = nn.Linear(fc_features, len(class_data))\n",
        "  print(\"new\")"
      ],
      "execution_count": null,
      "outputs": [
        {
          "output_type": "stream",
          "name": "stdout",
          "text": [
            "new\n"
          ]
        }
      ]
    },
    {
      "cell_type": "code",
      "metadata": {
        "colab": {
          "base_uri": "https://localhost:8080/"
        },
        "id": "KRnFOCm_jW4Q",
        "outputId": "6360fb85-fc2f-4438-e103-fc4db859f8bc"
      },
      "source": [
        "device = torch.device(\"cuda\")\n",
        "if torch.cuda.is_available():\n",
        "  model = model.to(device)\n",
        "  print(\"Success\")"
      ],
      "execution_count": null,
      "outputs": [
        {
          "output_type": "stream",
          "name": "stdout",
          "text": [
            "Success\n"
          ]
        }
      ]
    },
    {
      "cell_type": "code",
      "metadata": {
        "id": "Gm8da_xTilbm"
      },
      "source": [
        "def train(model, train_loader, val_loader, epochs, criterion, optimizer, scheduler ):\n",
        "  valid_loss_min = np.Inf\n",
        "\n",
        "  for epoch in range(1, epochs+1):\n",
        "    model.train()\n",
        "    train_loss = 0.0\n",
        "    valid_loss = 0.0\n",
        "    print('running epoch:{}'.format(epoch))\n",
        "\n",
        "    #train the model\n",
        "    for data in tqdm(train_loader):\n",
        "      img, label = data\n",
        "      img, label = img.cuda(), label.cuda()\n",
        "\n",
        "      #Forward propagation \n",
        "      optimizer.zero_grad()\n",
        "      output = model(img)\n",
        "      loss = criterion(output,label)\n",
        "\n",
        "      #Back propagation & update weights \n",
        "      loss.backward()\n",
        "      optimizer.step()\n",
        "\n",
        "      train_loss += loss.item()*img.size(0)\n",
        "\n",
        "    #validata the model\n",
        "    model.eval()\n",
        "    with torch.no_grad():\n",
        "      for data in tqdm(val_loader):\n",
        "        img, label = data\n",
        "        img,label = img.cuda(), label.cuda()\n",
        "\n",
        "        output = model(img)\n",
        "        loss = criterion(output,label)\n",
        "        valid_loss += loss.item()*img.size(0)\n",
        "\n",
        "      #calculate average losses\n",
        "      train_loss = train_loss/len(train_loader.dataset)\n",
        "      valid_loss = valid_loss/len(val_loader.dataset)\n",
        "\n",
        "      print('\\tTraining loss: {:.6f} \\tValidation Loss: {:.6f}'.format(train_loss, valid_loss))\n",
        "\n",
        "      #save model if validation loss has decreased\n",
        "      if valid_loss <= valid_loss_min:\n",
        "        print('Validation loss decreased ({:.6f} --> {:.6f}). Saving model...'.format(valid_loss_min,valid_loss))\n",
        "        torch.save(model.state_dict(),model_name)\n",
        "        valid_loss_min = valid_loss\n",
        "\n",
        "    scheduler.step()"
      ],
      "execution_count": null,
      "outputs": []
    },
    {
      "cell_type": "code",
      "metadata": {
        "id": "hxtMAPdHqow2"
      },
      "source": [
        "def test(model, valid_loader, criterion):\n",
        "\n",
        "  test_loss = 0.\n",
        "  correct = 0.\n",
        "  total = 0.\n",
        "\n",
        "  model.eval()\n",
        "  with torch.no_grad():\n",
        "    for batch_idx, data in enumerate(valid_loader):\n",
        "      img, label = data\n",
        "      img,label = img.cuda(), label.cuda()\n",
        "      output = model(img)\n",
        "      loss = criterion(output, label)\n",
        "      test_loss = test_loss + ((1 / (batch_idx + 1))*(loss.data - test_loss))\n",
        "      pred = torch.max(output,1).indices\n",
        "      correct += torch.sum (label == pred)\n",
        "      total += img.size(0)\n",
        " \n",
        "  print('Test Loss: {:.6f}'.format(test_loss))\n",
        "\n",
        "  print('Test Accuracy: %2d%% (%2d/%2d)' % (100. * correct / total, correct, total))"
      ],
      "execution_count": null,
      "outputs": []
    },
    {
      "cell_type": "code",
      "metadata": {
        "colab": {
          "base_uri": "https://localhost:8080/"
        },
        "id": "0QJE1VOHsLoZ",
        "outputId": "ccf9e078-fa69-42c4-d08c-ddac7d421abb"
      },
      "source": [
        "epochs = 20\n",
        "criterion = nn.CrossEntropyLoss()\n",
        "optimizer = torch.optim.Adam(model.parameters(), lr = 1e-4)\n",
        "scheduler = torch.optim.lr_scheduler.ExponentialLR(optimizer, gamma=0.95)\n",
        "train(model, train_loader, valid_loader, epochs, criterion, optimizer, scheduler)"
      ],
      "execution_count": null,
      "outputs": [
        {
          "output_type": "stream",
          "name": "stdout",
          "text": [
            "running epoch:1\n"
          ]
        },
        {
          "output_type": "stream",
          "name": "stderr",
          "text": [
            "100%|██████████| 100/100 [02:46<00:00,  1.66s/it]\n",
            "100%|██████████| 25/25 [00:15<00:00,  1.66it/s]\n"
          ]
        },
        {
          "output_type": "stream",
          "name": "stdout",
          "text": [
            "\tTraining loss: 5.034301 \tValidation Loss: 4.346428\n",
            "Validation loss decreased (inf --> 4.346428). Saving model...\n",
            "running epoch:2\n"
          ]
        },
        {
          "output_type": "stream",
          "name": "stderr",
          "text": [
            "100%|██████████| 100/100 [02:46<00:00,  1.66s/it]\n",
            "100%|██████████| 25/25 [00:15<00:00,  1.65it/s]\n"
          ]
        },
        {
          "output_type": "stream",
          "name": "stdout",
          "text": [
            "\tTraining loss: 3.854963 \tValidation Loss: 3.427756\n",
            "Validation loss decreased (4.346428 --> 3.427756). Saving model...\n",
            "running epoch:3\n"
          ]
        },
        {
          "output_type": "stream",
          "name": "stderr",
          "text": [
            "100%|██████████| 100/100 [02:45<00:00,  1.66s/it]\n",
            "100%|██████████| 25/25 [00:15<00:00,  1.65it/s]\n"
          ]
        },
        {
          "output_type": "stream",
          "name": "stdout",
          "text": [
            "\tTraining loss: 2.974302 \tValidation Loss: 2.942861\n",
            "Validation loss decreased (3.427756 --> 2.942861). Saving model...\n",
            "running epoch:4\n"
          ]
        },
        {
          "output_type": "stream",
          "name": "stderr",
          "text": [
            "100%|██████████| 100/100 [02:45<00:00,  1.66s/it]\n",
            "100%|██████████| 25/25 [00:15<00:00,  1.65it/s]\n"
          ]
        },
        {
          "output_type": "stream",
          "name": "stdout",
          "text": [
            "\tTraining loss: 2.240344 \tValidation Loss: 2.420814\n",
            "Validation loss decreased (2.942861 --> 2.420814). Saving model...\n",
            "running epoch:5\n"
          ]
        },
        {
          "output_type": "stream",
          "name": "stderr",
          "text": [
            "100%|██████████| 100/100 [02:45<00:00,  1.66s/it]\n",
            "100%|██████████| 25/25 [00:15<00:00,  1.65it/s]\n"
          ]
        },
        {
          "output_type": "stream",
          "name": "stdout",
          "text": [
            "\tTraining loss: 1.704879 \tValidation Loss: 2.075430\n",
            "Validation loss decreased (2.420814 --> 2.075430). Saving model...\n",
            "running epoch:6\n"
          ]
        },
        {
          "output_type": "stream",
          "name": "stderr",
          "text": [
            "100%|██████████| 100/100 [02:45<00:00,  1.66s/it]\n",
            "100%|██████████| 25/25 [00:15<00:00,  1.66it/s]\n"
          ]
        },
        {
          "output_type": "stream",
          "name": "stdout",
          "text": [
            "\tTraining loss: 1.279635 \tValidation Loss: 1.893956\n",
            "Validation loss decreased (2.075430 --> 1.893956). Saving model...\n",
            "running epoch:7\n"
          ]
        },
        {
          "output_type": "stream",
          "name": "stderr",
          "text": [
            "100%|██████████| 100/100 [02:45<00:00,  1.66s/it]\n",
            "100%|██████████| 25/25 [00:15<00:00,  1.65it/s]\n"
          ]
        },
        {
          "output_type": "stream",
          "name": "stdout",
          "text": [
            "\tTraining loss: 0.957331 \tValidation Loss: 1.672020\n",
            "Validation loss decreased (1.893956 --> 1.672020). Saving model...\n",
            "running epoch:8\n"
          ]
        },
        {
          "output_type": "stream",
          "name": "stderr",
          "text": [
            "100%|██████████| 100/100 [02:45<00:00,  1.66s/it]\n",
            "100%|██████████| 25/25 [00:15<00:00,  1.65it/s]\n"
          ]
        },
        {
          "output_type": "stream",
          "name": "stdout",
          "text": [
            "\tTraining loss: 0.693136 \tValidation Loss: 1.598108\n",
            "Validation loss decreased (1.672020 --> 1.598108). Saving model...\n",
            "running epoch:9\n"
          ]
        },
        {
          "output_type": "stream",
          "name": "stderr",
          "text": [
            "100%|██████████| 100/100 [02:45<00:00,  1.66s/it]\n",
            "100%|██████████| 25/25 [00:15<00:00,  1.65it/s]\n"
          ]
        },
        {
          "output_type": "stream",
          "name": "stdout",
          "text": [
            "\tTraining loss: 0.501895 \tValidation Loss: 1.502143\n",
            "Validation loss decreased (1.598108 --> 1.502143). Saving model...\n",
            "running epoch:10\n"
          ]
        },
        {
          "output_type": "stream",
          "name": "stderr",
          "text": [
            "100%|██████████| 100/100 [02:45<00:00,  1.65s/it]\n",
            "100%|██████████| 25/25 [00:15<00:00,  1.65it/s]\n"
          ]
        },
        {
          "output_type": "stream",
          "name": "stdout",
          "text": [
            "\tTraining loss: 0.370935 \tValidation Loss: 1.375622\n",
            "Validation loss decreased (1.502143 --> 1.375622). Saving model...\n",
            "running epoch:11\n"
          ]
        },
        {
          "output_type": "stream",
          "name": "stderr",
          "text": [
            "100%|██████████| 100/100 [02:45<00:00,  1.65s/it]\n",
            "100%|██████████| 25/25 [00:15<00:00,  1.66it/s]\n"
          ]
        },
        {
          "output_type": "stream",
          "name": "stdout",
          "text": [
            "\tTraining loss: 0.273482 \tValidation Loss: 1.357673\n",
            "Validation loss decreased (1.375622 --> 1.357673). Saving model...\n",
            "running epoch:12\n"
          ]
        },
        {
          "output_type": "stream",
          "name": "stderr",
          "text": [
            "100%|██████████| 100/100 [02:45<00:00,  1.65s/it]\n",
            "100%|██████████| 25/25 [00:15<00:00,  1.66it/s]\n"
          ]
        },
        {
          "output_type": "stream",
          "name": "stdout",
          "text": [
            "\tTraining loss: 0.214571 \tValidation Loss: 1.323594\n",
            "Validation loss decreased (1.357673 --> 1.323594). Saving model...\n",
            "running epoch:13\n"
          ]
        },
        {
          "output_type": "stream",
          "name": "stderr",
          "text": [
            "100%|██████████| 100/100 [02:45<00:00,  1.65s/it]\n",
            "100%|██████████| 25/25 [00:15<00:00,  1.66it/s]\n"
          ]
        },
        {
          "output_type": "stream",
          "name": "stdout",
          "text": [
            "\tTraining loss: 0.166554 \tValidation Loss: 1.245876\n",
            "Validation loss decreased (1.323594 --> 1.245876). Saving model...\n",
            "running epoch:14\n"
          ]
        },
        {
          "output_type": "stream",
          "name": "stderr",
          "text": [
            "100%|██████████| 100/100 [02:45<00:00,  1.65s/it]\n",
            "100%|██████████| 25/25 [00:15<00:00,  1.66it/s]\n"
          ]
        },
        {
          "output_type": "stream",
          "name": "stdout",
          "text": [
            "\tTraining loss: 0.125766 \tValidation Loss: 1.272504\n",
            "running epoch:15\n"
          ]
        },
        {
          "output_type": "stream",
          "name": "stderr",
          "text": [
            "100%|██████████| 100/100 [02:45<00:00,  1.65s/it]\n",
            "100%|██████████| 25/25 [00:15<00:00,  1.66it/s]\n"
          ]
        },
        {
          "output_type": "stream",
          "name": "stdout",
          "text": [
            "\tTraining loss: 0.108166 \tValidation Loss: 1.247162\n",
            "running epoch:16\n"
          ]
        },
        {
          "output_type": "stream",
          "name": "stderr",
          "text": [
            "100%|██████████| 100/100 [02:45<00:00,  1.65s/it]\n",
            "100%|██████████| 25/25 [00:15<00:00,  1.65it/s]\n"
          ]
        },
        {
          "output_type": "stream",
          "name": "stdout",
          "text": [
            "\tTraining loss: 0.087508 \tValidation Loss: 1.223433\n",
            "Validation loss decreased (1.245876 --> 1.223433). Saving model...\n",
            "running epoch:17\n"
          ]
        },
        {
          "output_type": "stream",
          "name": "stderr",
          "text": [
            "100%|██████████| 100/100 [02:45<00:00,  1.65s/it]\n",
            "100%|██████████| 25/25 [00:15<00:00,  1.65it/s]\n"
          ]
        },
        {
          "output_type": "stream",
          "name": "stdout",
          "text": [
            "\tTraining loss: 0.074518 \tValidation Loss: 1.198216\n",
            "Validation loss decreased (1.223433 --> 1.198216). Saving model...\n",
            "running epoch:18\n"
          ]
        },
        {
          "output_type": "stream",
          "name": "stderr",
          "text": [
            "100%|██████████| 100/100 [02:45<00:00,  1.65s/it]\n",
            "100%|██████████| 25/25 [00:15<00:00,  1.66it/s]\n"
          ]
        },
        {
          "output_type": "stream",
          "name": "stdout",
          "text": [
            "\tTraining loss: 0.066233 \tValidation Loss: 1.182571\n",
            "Validation loss decreased (1.198216 --> 1.182571). Saving model...\n",
            "running epoch:19\n"
          ]
        },
        {
          "output_type": "stream",
          "name": "stderr",
          "text": [
            "100%|██████████| 100/100 [02:45<00:00,  1.65s/it]\n",
            "100%|██████████| 25/25 [00:15<00:00,  1.65it/s]\n"
          ]
        },
        {
          "output_type": "stream",
          "name": "stdout",
          "text": [
            "\tTraining loss: 0.059671 \tValidation Loss: 1.175213\n",
            "Validation loss decreased (1.182571 --> 1.175213). Saving model...\n",
            "running epoch:20\n"
          ]
        },
        {
          "output_type": "stream",
          "name": "stderr",
          "text": [
            "100%|██████████| 100/100 [02:45<00:00,  1.65s/it]\n",
            "100%|██████████| 25/25 [00:15<00:00,  1.65it/s]"
          ]
        },
        {
          "output_type": "stream",
          "name": "stdout",
          "text": [
            "\tTraining loss: 0.053190 \tValidation Loss: 1.176654\n"
          ]
        },
        {
          "output_type": "stream",
          "name": "stderr",
          "text": [
            "\n"
          ]
        }
      ]
    },
    {
      "cell_type": "code",
      "metadata": {
        "colab": {
          "base_uri": "https://localhost:8080/"
        },
        "id": "FJ-OZfG7icUX",
        "outputId": "a1adcfe4-90a6-40ac-9fbe-6ba439967bce"
      },
      "source": [
        "criterion = nn.CrossEntropyLoss()\n",
        "test(model, valid_loader, criterion)"
      ],
      "execution_count": null,
      "outputs": [
        {
          "output_type": "stream",
          "name": "stdout",
          "text": [
            "Test Loss: 1.172486\n",
            "Test Accuracy: 72% (435/600)\n"
          ]
        }
      ]
    },
    {
      "cell_type": "markdown",
      "metadata": {
        "id": "DD2fOs4Y2mnf"
      },
      "source": [
        "# submission\n"
      ]
    },
    {
      "cell_type": "code",
      "metadata": {
        "id": "Ik52otSx2u0n"
      },
      "source": [
        "def submission(model, datasets, loader):\n",
        "  model.eval()\n",
        "  \n",
        "  with torch.no_grad():\n",
        "    submission = []\n",
        "    index = 0\n",
        "    for data in tqdm(loader):\n",
        "      img, label = data\n",
        "      img = img.cuda()\n",
        "\n",
        "      output = model(img) # the predicted category \n",
        "      predicted_class=torch.max(output,1).indices\n",
        "\n",
        "      for i in range(len(predicted_class)):\n",
        "        img_path = datasets.img_path[index * batch_size + i].split(\"/\")[1]\n",
        "        submission.append([img_path, str(class_data[int(predicted_class[i])])])\n",
        "\n",
        "      index += 1\n",
        "\n",
        "  np.savetxt('answer.txt', submission, fmt='%s')"
      ],
      "execution_count": null,
      "outputs": []
    },
    {
      "cell_type": "code",
      "metadata": {
        "colab": {
          "base_uri": "https://localhost:8080/"
        },
        "id": "javpLOc6HaGs",
        "outputId": "a7d91fd6-df3d-43f7-9397-d800d11532c4"
      },
      "source": [
        "model.load_state_dict(torch.load(model_name))\n",
        "submission(model, test_datasets, test_loader)"
      ],
      "execution_count": null,
      "outputs": [
        {
          "output_type": "stream",
          "name": "stderr",
          "text": [
            "100%|██████████| 127/127 [01:13<00:00,  1.72it/s]\n"
          ]
        }
      ]
    }
  ]
}